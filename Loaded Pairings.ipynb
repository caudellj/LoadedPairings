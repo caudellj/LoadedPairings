{
 "cells": [
  {
   "cell_type": "markdown",
   "id": "c493f0ac",
   "metadata": {},
   "source": [
    "In the following cells, we import the Python package `numpy`, which gives us the methods for performing matrix operations, record the $E_8$ matrix in the variable `E8`, record the 120 positive roots of the $E_8$ lattice in the list `Posroots`, record the 2160 vectors in $E_8$ of norm 4 in the list `Norm4`, and record the possible $E_8$-projections of a loaded basis element in the list `loaded_stems`."
   ]
  },
  {
   "cell_type": "code",
   "execution_count": 2,
   "id": "72ef8869",
   "metadata": {},
   "outputs": [],
   "source": [
    "import numpy as np\n",
    "\n",
    "E8 = np.array([[2,-1,-1,0,-1,0,0,0],\n",
    "             [-1,2,0,0,0,0,0,0],\n",
    "             [-1,0,2,-1,0,0,0,0],\n",
    "             [0,0,-1,2,0,0,0,0],\n",
    "             [-1,0,0,0,2,-1,0,0],\n",
    "             [0,0,0,0,-1,2,-1,0],\n",
    "             [0,0,0,0,0,-1,2,-1],\n",
    "             [0,0,0,0,0,0,-1,2]],)\n",
    "\n",
    "posroots = []\n",
    "for a in range(0,7,1):\n",
    "    for b in range(0,4,1):\n",
    "        for c in range(0,5,1):\n",
    "            for d in range(0,3,1):\n",
    "                for e in range(0,6,1):\n",
    "                    for f in range(0,5,1):\n",
    "                        for g in range(0,4,1):\n",
    "                            for h in range(0,3,1):\n",
    "                                if np.dot(np.dot(np.array([a,b,c,d,e,f,g,h]),E8), np.array([[a],[b],[c],[d],[e],[f],[g],[h]])) ==2:\n",
    "                                    posroots.append((a,b,c,d,e,f,g,h))\n",
    "                                    \n",
    "norm4 = []\n",
    "for a in posroots:\n",
    "    for b in posroots:\n",
    "        if np.dot(np.dot(np.array(a), E8),np.transpose([np.array(b)])) == 0:\n",
    "            norm4.append(tuple(a[i]+b[i] for i in range(len(a))))\n",
    "            norm4.append(tuple(a[i]-b[i] for i in range(len(b))))\n",
    "            norm4.append(tuple(-a[i]-b[i] for i in range(len(b))))\n",
    "            norm4 = list(set(sorted(norm4)))\n",
    "norm4 = sorted(norm4)"
   ]
  },
  {
   "cell_type": "code",
   "execution_count": 3,
   "id": "ac186aa4",
   "metadata": {},
   "outputs": [],
   "source": [
    "Posroots = [np.array(posroot) for posroot in posroots]\n",
    "Norm4 = [np.array(normy) for normy in norm4]\n",
    "loaded_stems = [(0, 1, -1, 0, 0, 0, 0, 0),\n",
    "               (0, -1, 1, 0, 0, 0, 0, 0),\n",
    "               (0, -1, 1, 1, 0, 0, 0, 0),\n",
    "               (0, -1, 0, 1, 0, 0, 0, 0),\n",
    "               (0, 1, 0, -1, 0, 0, 0, 0),\n",
    "               (1, 1, 0, -1, 0, 0, 0, 0),\n",
    "               (1, 1, 0, -1, 1, 0, 0, 0),\n",
    "               (1, 1, 0, -1, 1, 1, 0, 0),\n",
    "               (1, 1, 0, -1, 1, 1, 1, 0),\n",
    "               (1, 1, 0, -1, 1, 1, 1, 1),\n",
    "               (1, 0, 0, -1, 0, 0, 0, 0),\n",
    "               (1, 0, 0, -1, 1, 0, 0, 0),\n",
    "               (1, 0, 0, -1, 1, 1, 0, 0),\n",
    "               (1, 0, 0, -1, 1, 1, 1, 0),\n",
    "               (1, 0, 0, -1, 1, 1, 1, 1),\n",
    "               (0, 0, 0, -1, 1, 0, 0, 0),\n",
    "               (0, 0, 0, -1, 1, 1, 0, 0),\n",
    "               (0, 0, 0, -1, 1, 1, 1, 0),\n",
    "               (0, 0, 0, -1, 1, 1, 1, 1),\n",
    "               (0, 0, 0, -1, 0, 1, 0, 0),\n",
    "               (0, 0, 0, -1, 0, 1, 1, 0),\n",
    "               (0, 0, 0, -1, 0, 1, 1, 1),\n",
    "               (0, 0, 0, -1, 0, 0, 1, 0),\n",
    "               (0, 0, 0, -1, 0, 0, 1, 1),\n",
    "               (0, 0, 0, -1, 0, 0, 0, 1)]"
   ]
  },
  {
   "cell_type": "code",
   "execution_count": 4,
   "id": "ed42a7b0",
   "metadata": {},
   "outputs": [],
   "source": [
    "Loaded = [np.array(stem) for stem in loaded_stems]"
   ]
  },
  {
   "cell_type": "markdown",
   "id": "056cc5bf",
   "metadata": {},
   "source": [
    "In the following cell, we have a script that, for each loaded stem `stem`, finds all positive roots `root` that pair to 0 with `root` + `stem`. We record the root `root` if, furthermore, `root[i]` = 0 for `i` the loaded index of `stem`, since otherwise we would have `root[i]` >0 and therefore the pairing of `root` with $\\tau$ exceeds $|\\sigma|_1$."
   ]
  },
  {
   "cell_type": "code",
   "execution_count": 5,
   "id": "51c7211b",
   "metadata": {},
   "outputs": [],
   "source": [
    "z2p0s = []\n",
    "for stem in Loaded:\n",
    "    i = list(stem).index(-1)\n",
    "    working_list = []\n",
    "    for root in Posroots:\n",
    "        if (root + stem)@E8@(-root) == 0 and root[i] == 0:\n",
    "            working_list.append(root)\n",
    "    z2p0s.append(['These are for ' + str(stem) + ':', working_list])"
   ]
  },
  {
   "cell_type": "markdown",
   "id": "199c4735",
   "metadata": {},
   "source": [
    "We see in the following cell, that there are no such roots."
   ]
  },
  {
   "cell_type": "code",
   "execution_count": 6,
   "id": "3baca050",
   "metadata": {},
   "outputs": [
    {
     "data": {
      "text/plain": [
       "[['These are for [ 0  1 -1  0  0  0  0  0]:', []],\n",
       " ['These are for [ 0 -1  1  0  0  0  0  0]:', []],\n",
       " ['These are for [ 0 -1  1  1  0  0  0  0]:', []],\n",
       " ['These are for [ 0 -1  0  1  0  0  0  0]:', []],\n",
       " ['These are for [ 0  1  0 -1  0  0  0  0]:', []],\n",
       " ['These are for [ 1  1  0 -1  0  0  0  0]:', []],\n",
       " ['These are for [ 1  1  0 -1  1  0  0  0]:', []],\n",
       " ['These are for [ 1  1  0 -1  1  1  0  0]:', []],\n",
       " ['These are for [ 1  1  0 -1  1  1  1  0]:', []],\n",
       " ['These are for [ 1  1  0 -1  1  1  1  1]:', []],\n",
       " ['These are for [ 1  0  0 -1  0  0  0  0]:', []],\n",
       " ['These are for [ 1  0  0 -1  1  0  0  0]:', []],\n",
       " ['These are for [ 1  0  0 -1  1  1  0  0]:', []],\n",
       " ['These are for [ 1  0  0 -1  1  1  1  0]:', []],\n",
       " ['These are for [ 1  0  0 -1  1  1  1  1]:', []],\n",
       " ['These are for [ 0  0  0 -1  1  0  0  0]:', []],\n",
       " ['These are for [ 0  0  0 -1  1  1  0  0]:', []],\n",
       " ['These are for [ 0  0  0 -1  1  1  1  0]:', []],\n",
       " ['These are for [ 0  0  0 -1  1  1  1  1]:', []],\n",
       " ['These are for [ 0  0  0 -1  0  1  0  0]:', []],\n",
       " ['These are for [ 0  0  0 -1  0  1  1  0]:', []],\n",
       " ['These are for [ 0  0  0 -1  0  1  1  1]:', []],\n",
       " ['These are for [ 0  0  0 -1  0  0  1  0]:', []],\n",
       " ['These are for [ 0  0  0 -1  0  0  1  1]:', []],\n",
       " ['These are for [ 0  0  0 -1  0  0  0  1]:', []]]"
      ]
     },
     "execution_count": 6,
     "metadata": {},
     "output_type": "execute_result"
    }
   ],
   "source": [
    "z2p0s"
   ]
  },
  {
   "cell_type": "markdown",
   "id": "66e59cab",
   "metadata": {},
   "source": [
    "We now turn our attention to finding all positive roots `root` that pair to 1 with `root` + `stem`, recording only those roots with `root[i]` = 0 for `i` the loaded index of `stem`."
   ]
  },
  {
   "cell_type": "code",
   "execution_count": 12,
   "id": "7446617f",
   "metadata": {},
   "outputs": [],
   "source": [
    "z2p1s = []\n",
    "for stem in Loaded:\n",
    "    i = list(stem).index(-1)\n",
    "    working_list = []\n",
    "    for root in Posroots:\n",
    "        if (root + stem)@E8@(-root) == -1 and root[i] == 0:\n",
    "            working_list.append(root)\n",
    "    z2p1s.append(['These are for ' + str(stem) + ':', working_list])"
   ]
  },
  {
   "cell_type": "markdown",
   "id": "95086da5",
   "metadata": {},
   "source": [
    "We see in the following cell that for each pair (`stem`, `root`), either \n",
    "    1) `root` $\\cdot \\tau = 0$, \n",
    "    2) `root` $\\cdot \\tau > |\\sigma|_1 + 1$, or \n",
    "    3) (`root` + `stem`) $\\cdot \\tau > 0$."
   ]
  },
  {
   "cell_type": "code",
   "execution_count": 13,
   "id": "372e83a1",
   "metadata": {},
   "outputs": [
    {
     "data": {
      "text/plain": [
       "[['These are for [ 0  1 -1  0  0  0  0  0]:', []],\n",
       " ['These are for [ 0 -1  1  0  0  0  0  0]:',\n",
       "  [array([0, 0, 0, 1, 0, 0, 0, 0])]],\n",
       " ['These are for [ 0 -1  1  1  0  0  0  0]:', []],\n",
       " ['These are for [ 0 -1  0  1  0  0  0  0]:',\n",
       "  [array([0, 0, 1, 0, 0, 0, 0, 0])]],\n",
       " ['These are for [ 0  1  0 -1  0  0  0  0]:',\n",
       "  [array([1, 0, 0, 0, 0, 0, 0, 0]),\n",
       "   array([1, 0, 0, 0, 1, 0, 0, 0]),\n",
       "   array([1, 0, 0, 0, 1, 1, 0, 0]),\n",
       "   array([1, 0, 0, 0, 1, 1, 1, 0]),\n",
       "   array([1, 0, 0, 0, 1, 1, 1, 1])]],\n",
       " ['These are for [ 1  1  0 -1  0  0  0  0]:',\n",
       "  [array([0, 0, 0, 0, 1, 0, 0, 0]),\n",
       "   array([0, 0, 0, 0, 1, 1, 0, 0]),\n",
       "   array([0, 0, 0, 0, 1, 1, 1, 0]),\n",
       "   array([0, 0, 0, 0, 1, 1, 1, 1])]],\n",
       " ['These are for [ 1  1  0 -1  1  0  0  0]:',\n",
       "  [array([0, 0, 0, 0, 0, 1, 0, 0]),\n",
       "   array([0, 0, 0, 0, 0, 1, 1, 0]),\n",
       "   array([0, 0, 0, 0, 0, 1, 1, 1])]],\n",
       " ['These are for [ 1  1  0 -1  1  1  0  0]:',\n",
       "  [array([0, 0, 0, 0, 0, 0, 1, 0]), array([0, 0, 0, 0, 0, 0, 1, 1])]],\n",
       " ['These are for [ 1  1  0 -1  1  1  1  0]:',\n",
       "  [array([0, 0, 0, 0, 0, 0, 0, 1])]],\n",
       " ['These are for [ 1  1  0 -1  1  1  1  1]:', []],\n",
       " ['These are for [ 1  0  0 -1  0  0  0  0]:',\n",
       "  [array([0, 0, 0, 0, 1, 0, 0, 0]),\n",
       "   array([0, 0, 0, 0, 1, 1, 0, 0]),\n",
       "   array([0, 0, 0, 0, 1, 1, 1, 0]),\n",
       "   array([0, 0, 0, 0, 1, 1, 1, 1]),\n",
       "   array([0, 1, 0, 0, 0, 0, 0, 0])]],\n",
       " ['These are for [ 1  0  0 -1  1  0  0  0]:',\n",
       "  [array([0, 0, 0, 0, 0, 1, 0, 0]),\n",
       "   array([0, 0, 0, 0, 0, 1, 1, 0]),\n",
       "   array([0, 0, 0, 0, 0, 1, 1, 1]),\n",
       "   array([0, 1, 0, 0, 0, 0, 0, 0])]],\n",
       " ['These are for [ 1  0  0 -1  1  1  0  0]:',\n",
       "  [array([0, 0, 0, 0, 0, 0, 1, 0]),\n",
       "   array([0, 0, 0, 0, 0, 0, 1, 1]),\n",
       "   array([0, 1, 0, 0, 0, 0, 0, 0])]],\n",
       " ['These are for [ 1  0  0 -1  1  1  1  0]:',\n",
       "  [array([0, 0, 0, 0, 0, 0, 0, 1]), array([0, 1, 0, 0, 0, 0, 0, 0])]],\n",
       " ['These are for [ 1  0  0 -1  1  1  1  1]:',\n",
       "  [array([0, 1, 0, 0, 0, 0, 0, 0])]],\n",
       " ['These are for [ 0  0  0 -1  1  0  0  0]:',\n",
       "  [array([0, 0, 0, 0, 0, 1, 0, 0]),\n",
       "   array([0, 0, 0, 0, 0, 1, 1, 0]),\n",
       "   array([0, 0, 0, 0, 0, 1, 1, 1]),\n",
       "   array([1, 0, 0, 0, 0, 0, 0, 0]),\n",
       "   array([1, 1, 0, 0, 0, 0, 0, 0])]],\n",
       " ['These are for [ 0  0  0 -1  1  1  0  0]:',\n",
       "  [array([0, 0, 0, 0, 0, 0, 1, 0]),\n",
       "   array([0, 0, 0, 0, 0, 0, 1, 1]),\n",
       "   array([1, 0, 0, 0, 0, 0, 0, 0]),\n",
       "   array([1, 1, 0, 0, 0, 0, 0, 0])]],\n",
       " ['These are for [ 0  0  0 -1  1  1  1  0]:',\n",
       "  [array([0, 0, 0, 0, 0, 0, 0, 1]),\n",
       "   array([1, 0, 0, 0, 0, 0, 0, 0]),\n",
       "   array([1, 1, 0, 0, 0, 0, 0, 0])]],\n",
       " ['These are for [ 0  0  0 -1  1  1  1  1]:',\n",
       "  [array([1, 0, 0, 0, 0, 0, 0, 0]), array([1, 1, 0, 0, 0, 0, 0, 0])]],\n",
       " ['These are for [ 0  0  0 -1  0  1  0  0]:',\n",
       "  [array([0, 0, 0, 0, 0, 0, 1, 0]),\n",
       "   array([0, 0, 0, 0, 0, 0, 1, 1]),\n",
       "   array([0, 0, 0, 0, 1, 0, 0, 0]),\n",
       "   array([1, 0, 0, 0, 1, 0, 0, 0]),\n",
       "   array([1, 1, 0, 0, 1, 0, 0, 0])]],\n",
       " ['These are for [ 0  0  0 -1  0  1  1  0]:',\n",
       "  [array([0, 0, 0, 0, 0, 0, 0, 1]),\n",
       "   array([0, 0, 0, 0, 1, 0, 0, 0]),\n",
       "   array([1, 0, 0, 0, 1, 0, 0, 0]),\n",
       "   array([1, 1, 0, 0, 1, 0, 0, 0])]],\n",
       " ['These are for [ 0  0  0 -1  0  1  1  1]:',\n",
       "  [array([0, 0, 0, 0, 1, 0, 0, 0]),\n",
       "   array([1, 0, 0, 0, 1, 0, 0, 0]),\n",
       "   array([1, 1, 0, 0, 1, 0, 0, 0])]],\n",
       " ['These are for [ 0  0  0 -1  0  0  1  0]:',\n",
       "  [array([0, 0, 0, 0, 0, 0, 0, 1]),\n",
       "   array([0, 0, 0, 0, 0, 1, 0, 0]),\n",
       "   array([0, 0, 0, 0, 1, 1, 0, 0]),\n",
       "   array([1, 0, 0, 0, 1, 1, 0, 0]),\n",
       "   array([1, 1, 0, 0, 1, 1, 0, 0])]],\n",
       " ['These are for [ 0  0  0 -1  0  0  1  1]:',\n",
       "  [array([0, 0, 0, 0, 0, 1, 0, 0]),\n",
       "   array([0, 0, 0, 0, 1, 1, 0, 0]),\n",
       "   array([1, 0, 0, 0, 1, 1, 0, 0]),\n",
       "   array([1, 1, 0, 0, 1, 1, 0, 0])]],\n",
       " ['These are for [ 0  0  0 -1  0  0  0  1]:',\n",
       "  [array([0, 0, 0, 0, 0, 0, 1, 0]),\n",
       "   array([0, 0, 0, 0, 0, 1, 1, 0]),\n",
       "   array([0, 0, 0, 0, 1, 1, 1, 0]),\n",
       "   array([1, 0, 0, 0, 1, 1, 1, 0]),\n",
       "   array([1, 1, 0, 0, 1, 1, 1, 0])]]]"
      ]
     },
     "execution_count": 13,
     "metadata": {},
     "output_type": "execute_result"
    }
   ],
   "source": [
    "z2p1s"
   ]
  },
  {
   "cell_type": "markdown",
   "id": "9232c42b",
   "metadata": {},
   "source": [
    "In the following cell, we identify all vectors `norm4` of norm 4 which pair to 1 with `norm4 + stem`, recording only those which satisfy $0 \\leq$ `norm4` $\\cdot \\tau \\leq |\\sigma|_1 + 1$ and `norm4[i]` + `stem[i]` $\\leq -1$ for some $0\\leq i \\leq 7$."
   ]
  },
  {
   "cell_type": "code",
   "execution_count": 18,
   "id": "9823094b",
   "metadata": {},
   "outputs": [],
   "source": [
    "z4p1s = []\n",
    "for stem in Loaded:\n",
    "    working_list = []\n",
    "    for norm4 in Norm4:\n",
    "        i = list(stem).index(-1)\n",
    "        b = 0\n",
    "        c = 0\n",
    "        d = 0\n",
    "        for a in norm4:\n",
    "            if a >= 0:\n",
    "                c+= (a >0)\n",
    "                b += 1\n",
    "        for j in range(8):\n",
    "            if norm4[j] + stem[j] >= 0:\n",
    "                d += 1\n",
    "        if c > 0 and (norm4 + stem)@E8@(-norm4) == -1 and not(b == 8 and norm4[i] >= 1) and d < 8:\n",
    "            working_list.append(norm4)\n",
    "    z4p1s.append(['These are for ' + str(stem) + ':', working_list])"
   ]
  },
  {
   "cell_type": "markdown",
   "id": "fc478f2a",
   "metadata": {},
   "source": [
    "For all `norm4` identified by the script above, either (`norm4` + `stem`) $\\cdot \\tau <-|\\sigma|_1 -1$, or $0 = ($ `norm4` + `stem` $)\\cdot \\tau$ and `abs`(`norm4` + `stem` ) = 2, or (`norm4` + `stem`) $\\cdot \\tau > 0$."
   ]
  },
  {
   "cell_type": "code",
   "execution_count": 20,
   "id": "fec3491c",
   "metadata": {},
   "outputs": [
    {
     "data": {
      "text/plain": [
       "[['These are for [ 0  1 -1  0  0  0  0  0]:', []],\n",
       " ['These are for [ 0 -1  1  0  0  0  0  0]:',\n",
       "  [array([ 0,  1, -1, -1,  0,  0,  0,  0])]],\n",
       " ['These are for [ 0 -1  1  1  0  0  0  0]:', []],\n",
       " ['These are for [ 0 -1  0  1  0  0  0  0]:',\n",
       "  [array([ 0,  1, -1, -1,  0,  0,  0,  0])]],\n",
       " ['These are for [ 0  1  0 -1  0  0  0  0]:',\n",
       "  [array([-1, -1,  0,  1, -1, -1, -1, -1]),\n",
       "   array([-1, -1,  0,  1, -1, -1, -1,  0]),\n",
       "   array([-1, -1,  0,  1, -1, -1,  0,  0]),\n",
       "   array([-1, -1,  0,  1, -1,  0,  0,  0]),\n",
       "   array([-1, -1,  0,  1,  0,  0,  0,  0])]],\n",
       " ['These are for [ 1  1  0 -1  0  0  0  0]:',\n",
       "  [array([-1, -1,  0,  1, -1, -1, -1, -1]),\n",
       "   array([-1, -1,  0,  1, -1, -1, -1,  0]),\n",
       "   array([-1, -1,  0,  1, -1, -1,  0,  0]),\n",
       "   array([-1, -1,  0,  1, -1,  0,  0,  0])]],\n",
       " ['These are for [ 1  1  0 -1  1  0  0  0]:',\n",
       "  [array([-1, -1,  0,  1, -1, -1, -1, -1]),\n",
       "   array([-1, -1,  0,  1, -1, -1, -1,  0]),\n",
       "   array([-1, -1,  0,  1, -1, -1,  0,  0])]],\n",
       " ['These are for [ 1  1  0 -1  1  1  0  0]:',\n",
       "  [array([-1, -1,  0,  1, -1, -1, -1, -1]),\n",
       "   array([-1, -1,  0,  1, -1, -1, -1,  0])]],\n",
       " ['These are for [ 1  1  0 -1  1  1  1  0]:',\n",
       "  [array([-1, -1,  0,  1, -1, -1, -1, -1])]],\n",
       " ['These are for [ 1  1  0 -1  1  1  1  1]:', []],\n",
       " ['These are for [ 1  0  0 -1  0  0  0  0]:',\n",
       "  [array([-1, -1,  0,  1,  0,  0,  0,  0]),\n",
       "   array([-1,  0,  0,  1, -1, -1, -1, -1]),\n",
       "   array([-1,  0,  0,  1, -1, -1, -1,  0]),\n",
       "   array([-1,  0,  0,  1, -1, -1,  0,  0]),\n",
       "   array([-1,  0,  0,  1, -1,  0,  0,  0])]],\n",
       " ['These are for [ 1  0  0 -1  1  0  0  0]:',\n",
       "  [array([-1, -1,  0,  1, -1,  0,  0,  0]),\n",
       "   array([-1,  0,  0,  1, -1, -1, -1, -1]),\n",
       "   array([-1,  0,  0,  1, -1, -1, -1,  0]),\n",
       "   array([-1,  0,  0,  1, -1, -1,  0,  0])]],\n",
       " ['These are for [ 1  0  0 -1  1  1  0  0]:',\n",
       "  [array([-1, -1,  0,  1, -1, -1,  0,  0]),\n",
       "   array([-1,  0,  0,  1, -1, -1, -1, -1]),\n",
       "   array([-1,  0,  0,  1, -1, -1, -1,  0])]],\n",
       " ['These are for [ 1  0  0 -1  1  1  1  0]:',\n",
       "  [array([-1, -1,  0,  1, -1, -1, -1,  0]),\n",
       "   array([-1,  0,  0,  1, -1, -1, -1, -1])]],\n",
       " ['These are for [ 1  0  0 -1  1  1  1  1]:',\n",
       "  [array([-1, -1,  0,  1, -1, -1, -1, -1])]],\n",
       " ['These are for [ 0  0  0 -1  1  0  0  0]:',\n",
       "  [array([-1, -1,  0,  1, -1,  0,  0,  0]),\n",
       "   array([-1,  0,  0,  1, -1,  0,  0,  0]),\n",
       "   array([ 0,  0,  0,  1, -1, -1, -1, -1]),\n",
       "   array([ 0,  0,  0,  1, -1, -1, -1,  0]),\n",
       "   array([ 0,  0,  0,  1, -1, -1,  0,  0])]],\n",
       " ['These are for [ 0  0  0 -1  1  1  0  0]:',\n",
       "  [array([-1, -1,  0,  1, -1, -1,  0,  0]),\n",
       "   array([-1,  0,  0,  1, -1, -1,  0,  0]),\n",
       "   array([ 0,  0,  0,  1, -1, -1, -1, -1]),\n",
       "   array([ 0,  0,  0,  1, -1, -1, -1,  0])]],\n",
       " ['These are for [ 0  0  0 -1  1  1  1  0]:',\n",
       "  [array([-1, -1,  0,  1, -1, -1, -1,  0]),\n",
       "   array([-1,  0,  0,  1, -1, -1, -1,  0]),\n",
       "   array([ 0,  0,  0,  1, -1, -1, -1, -1])]],\n",
       " ['These are for [ 0  0  0 -1  1  1  1  1]:',\n",
       "  [array([-1, -1,  0,  1, -1, -1, -1, -1]),\n",
       "   array([-1,  0,  0,  1, -1, -1, -1, -1])]],\n",
       " ['These are for [ 0  0  0 -1  0  1  0  0]:',\n",
       "  [array([-1, -1,  0,  1, -1, -1,  0,  0]),\n",
       "   array([-1,  0,  0,  1, -1, -1,  0,  0]),\n",
       "   array([ 0,  0,  0,  1, -1, -1,  0,  0]),\n",
       "   array([ 0,  0,  0,  1,  0, -1, -1, -1]),\n",
       "   array([ 0,  0,  0,  1,  0, -1, -1,  0])]],\n",
       " ['These are for [ 0  0  0 -1  0  1  1  0]:',\n",
       "  [array([-1, -1,  0,  1, -1, -1, -1,  0]),\n",
       "   array([-1,  0,  0,  1, -1, -1, -1,  0]),\n",
       "   array([ 0,  0,  0,  1, -1, -1, -1,  0]),\n",
       "   array([ 0,  0,  0,  1,  0, -1, -1, -1])]],\n",
       " ['These are for [ 0  0  0 -1  0  1  1  1]:',\n",
       "  [array([-1, -1,  0,  1, -1, -1, -1, -1]),\n",
       "   array([-1,  0,  0,  1, -1, -1, -1, -1]),\n",
       "   array([ 0,  0,  0,  1, -1, -1, -1, -1])]],\n",
       " ['These are for [ 0  0  0 -1  0  0  1  0]:',\n",
       "  [array([-1, -1,  0,  1, -1, -1, -1,  0]),\n",
       "   array([-1,  0,  0,  1, -1, -1, -1,  0]),\n",
       "   array([ 0,  0,  0,  1, -1, -1, -1,  0]),\n",
       "   array([ 0,  0,  0,  1,  0, -1, -1,  0]),\n",
       "   array([ 0,  0,  0,  1,  0,  0, -1, -1])]],\n",
       " ['These are for [ 0  0  0 -1  0  0  1  1]:',\n",
       "  [array([-1, -1,  0,  1, -1, -1, -1, -1]),\n",
       "   array([-1,  0,  0,  1, -1, -1, -1, -1]),\n",
       "   array([ 0,  0,  0,  1, -1, -1, -1, -1]),\n",
       "   array([ 0,  0,  0,  1,  0, -1, -1, -1])]],\n",
       " ['These are for [ 0  0  0 -1  0  0  0  1]:',\n",
       "  [array([-1, -1,  0,  1, -1, -1, -1, -1]),\n",
       "   array([-1,  0,  0,  1, -1, -1, -1, -1]),\n",
       "   array([ 0,  0,  0,  1, -1, -1, -1, -1]),\n",
       "   array([ 0,  0,  0,  1,  0, -1, -1, -1]),\n",
       "   array([ 0,  0,  0,  1,  0,  0, -1, -1])]]]"
      ]
     },
     "execution_count": 20,
     "metadata": {},
     "output_type": "execute_result"
    }
   ],
   "source": [
    "z4p1s"
   ]
  },
  {
   "cell_type": "markdown",
   "id": "b66cc165",
   "metadata": {},
   "source": [
    "Thus, the proof of Proposition 3.3.7 of \"On lens space surgeries from the Poincaré homology sphere\" is complete."
   ]
  },
  {
   "cell_type": "code",
   "execution_count": null,
   "id": "a08e1c97",
   "metadata": {},
   "outputs": [],
   "source": []
  }
 ],
 "metadata": {
  "kernelspec": {
   "display_name": "Python 3 (ipykernel)",
   "language": "python",
   "name": "python3"
  },
  "language_info": {
   "codemirror_mode": {
    "name": "ipython",
    "version": 3
   },
   "file_extension": ".py",
   "mimetype": "text/x-python",
   "name": "python",
   "nbconvert_exporter": "python",
   "pygments_lexer": "ipython3",
   "version": "3.10.9"
  }
 },
 "nbformat": 4,
 "nbformat_minor": 5
}
